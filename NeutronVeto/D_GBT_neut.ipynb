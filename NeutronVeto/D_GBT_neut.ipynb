{
 "cells": [
  {
   "cell_type": "code",
   "execution_count": 29,
   "id": "nearby-identification",
   "metadata": {},
   "outputs": [],
   "source": [
    "from sklearn import tree\n",
    "import numpy as np\n",
    "import matplotlib.pyplot as plt\n",
    "from glob import glob\n",
    "from sklearn.ensemble import GradientBoostingClassifier, RandomForestClassifier, AdaBoostClassifier\n",
    "from sklearn.metrics import accuracy_score, confusion_matrix, classification_report\n",
    "from sklearn.model_selection import train_test_split\n",
    "from sklearn import metrics"
   ]
  },
  {
   "cell_type": "code",
   "execution_count": 36,
   "id": "contrary-cooking",
   "metadata": {},
   "outputs": [
    {
     "name": "stdout",
     "output_type": "stream",
     "text": [
      "(3981, 8)\n",
      "(3108, 12)\n"
     ]
    },
    {
     "ename": "ValueError",
     "evalue": "all the input array dimensions for the concatenation axis must match exactly, but along dimension 1, the array at index 0 has size 7 and the array at index 1 has size 11",
     "output_type": "error",
     "traceback": [
      "\u001b[0;31m---------------------------------------------------------------------------\u001b[0m",
      "\u001b[0;31mValueError\u001b[0m                                Traceback (most recent call last)",
      "\u001b[0;32m<ipython-input-36-ee1592f52606>\u001b[0m in \u001b[0;36m<module>\u001b[0;34m\u001b[0m\n\u001b[1;32m     24\u001b[0m \u001b[0mprint\u001b[0m\u001b[0;34m(\u001b[0m\u001b[0mnp\u001b[0m\u001b[0;34m.\u001b[0m\u001b[0mshape\u001b[0m\u001b[0;34m(\u001b[0m\u001b[0mpdata\u001b[0m\u001b[0;34m)\u001b[0m\u001b[0;34m)\u001b[0m\u001b[0;34m\u001b[0m\u001b[0;34m\u001b[0m\u001b[0m\n\u001b[1;32m     25\u001b[0m \u001b[0;34m\u001b[0m\u001b[0m\n\u001b[0;32m---> 26\u001b[0;31m \u001b[0mmyX\u001b[0m \u001b[0;34m=\u001b[0m \u001b[0mnp\u001b[0m\u001b[0;34m.\u001b[0m\u001b[0mconcatenate\u001b[0m\u001b[0;34m(\u001b[0m\u001b[0;34m(\u001b[0m\u001b[0mndata\u001b[0m\u001b[0;34m[\u001b[0m\u001b[0;34m:\u001b[0m\u001b[0;34m,\u001b[0m\u001b[0;36m1\u001b[0m\u001b[0;34m:\u001b[0m\u001b[0;34m]\u001b[0m\u001b[0;34m,\u001b[0m\u001b[0mpdata\u001b[0m\u001b[0;34m[\u001b[0m\u001b[0;34m:\u001b[0m\u001b[0;34m,\u001b[0m\u001b[0;36m1\u001b[0m\u001b[0;34m:\u001b[0m\u001b[0;34m]\u001b[0m\u001b[0;34m)\u001b[0m\u001b[0;34m,\u001b[0m\u001b[0maxis\u001b[0m\u001b[0;34m=\u001b[0m\u001b[0;36m0\u001b[0m\u001b[0;34m)\u001b[0m\u001b[0;34m\u001b[0m\u001b[0;34m\u001b[0m\u001b[0m\n\u001b[0m\u001b[1;32m     27\u001b[0m \u001b[0;31m#myX = np.concatenate((ndata[:,cols],pdata[:,cols]),axis=0)\u001b[0m\u001b[0;34m\u001b[0m\u001b[0;34m\u001b[0m\u001b[0;34m\u001b[0m\u001b[0m\n\u001b[1;32m     28\u001b[0m \u001b[0mmyX\u001b[0m \u001b[0;34m=\u001b[0m \u001b[0mnp\u001b[0m\u001b[0;34m.\u001b[0m\u001b[0mnan_to_num\u001b[0m\u001b[0;34m(\u001b[0m\u001b[0mmyX\u001b[0m\u001b[0;34m,\u001b[0m \u001b[0mnan\u001b[0m\u001b[0;34m=\u001b[0m\u001b[0;36m0\u001b[0m\u001b[0;34m)\u001b[0m\u001b[0;34m\u001b[0m\u001b[0;34m\u001b[0m\u001b[0m\n",
      "\u001b[0;32m<__array_function__ internals>\u001b[0m in \u001b[0;36mconcatenate\u001b[0;34m(*args, **kwargs)\u001b[0m\n",
      "\u001b[0;31mValueError\u001b[0m: all the input array dimensions for the concatenation axis must match exactly, but along dimension 1, the array at index 0 has size 7 and the array at index 1 has size 11"
     ]
    }
   ],
   "source": [
    "# CONCATENATE ALL INTO ONE TXT FILE IN BKND_TXT\n",
    "# THEN READ THAT FILE IN\n",
    "\n",
    "cols = [1,2,4,5,6,7,8,9]\n",
    "\n",
    "filepath = \"/lustre19/expphy/volatile/clas12/users/erins/neutron-veto/d_6gev/6gev_txt/\"\n",
    "#neutron_names = glob(filepath + \"goodn_jus_pCD_015*.txt\")\n",
    "neutron_names = glob(filepath + \"goodn_jus_pCD_015*.txt\")\n",
    "n_arrays = [np.genfromtxt(f, invalid_raise=False) for f in neutron_names]\n",
    "ndata = np.concatenate(n_arrays, axis=0)[0:47000,:]\n",
    "# only 333 neutrons in e'p\n",
    "\n",
    "\n",
    "#proton_names = glob(filepath + \"badn_jus_pCD_015*.txt\")\n",
    "proton_names = glob(filepath + \"badn_jus_pCD_015*.txt\")\n",
    "p_arrays = [np.genfromtxt(f, invalid_raise=False) for f in proton_names]\n",
    "pdata = np.concatenate(p_arrays, axis=0)[0:47000,:]\n",
    "\n",
    "\n",
    "ny = np.ones(len(ndata)) # neutrons - assigned 1\n",
    "py = np.zeros(len(pdata)) # protons - assigned 0\n",
    "\n",
    "print(np.shape(ndata))\n",
    "print(np.shape(pdata))\n",
    "\n",
    "myX = np.concatenate((ndata[:,1:],pdata[:,1:]),axis=0)\n",
    "#myX = np.concatenate((ndata[:,cols],pdata[:,cols]),axis=0)\n",
    "myX = np.nan_to_num(myX, nan=0)\n",
    "myY = np.concatenate((ny,py),axis=0)\n",
    "print(np.argwhere(np.isnan(myX)))\n",
    "# number of good neutrons (pCDn): 261,475\n",
    "# number of bad neutrons (pCDn): 476,958\n",
    "# number of good neutrons (pFDn): 8510\n",
    "# number of bad neutrons (pFDn):79338\n",
    "# if no theta_pmiss cut (pCDn), 3269k good neutrons\n",
    "# if no theta_pmiss cut (pCDn), 1.05M good neutrons\n"
   ]
  },
  {
   "cell_type": "code",
   "execution_count": 37,
   "id": "geological-question",
   "metadata": {},
   "outputs": [
    {
     "name": "stdout",
     "output_type": "stream",
     "text": [
      "      Iter       Train Loss   Remaining Time \n",
      "         1           1.1842            7.74s\n",
      "         2           1.0495            7.63s\n",
      "         3           0.9550            7.59s\n",
      "         4           0.8829            7.52s\n",
      "         5           0.8290            7.44s\n",
      "         6           0.7890            7.35s\n",
      "         7           0.7565            7.27s\n",
      "         8           0.7337            7.19s\n",
      "         9           0.7149            7.10s\n",
      "        10           0.6998            7.03s\n",
      "        20           0.6431            6.25s\n",
      "        30           0.6266            5.53s\n",
      "        40           0.6167            4.78s\n",
      "        50           0.6102            4.01s\n",
      "        60           0.6028            3.23s\n",
      "        70           0.5962            2.43s\n",
      "        80           0.5908            1.63s\n",
      "        90           0.5835            0.81s\n",
      "       100           0.5776            0.00s\n",
      "Accuracy:\n",
      "0.8858273580288942\n",
      "0.8687872340425532\n"
     ]
    }
   ],
   "source": [
    "X_train, X_test, y_train, y_test = train_test_split(\n",
    "    myX[1:],\n",
    "    myY[1:],\n",
    "    shuffle=True,\n",
    "    test_size=0.5,\n",
    ")\n",
    "\n",
    "from sklearn.preprocessing import StandardScaler\n",
    "\n",
    "\"\"\"sc = StandardScaler()\n",
    "X_train = sc.fit_transform(X_train)\n",
    "X_test = sc.transform(X_test)\"\"\"\n",
    "\n",
    "clf = GradientBoostingClassifier(learning_rate=0.2, max_depth=5, verbose=1)\n",
    "#clf = RandomForestClassifier(max_depth=5, random_state=0)\n",
    "\n",
    "clf.fit(X_train,y_train)\n",
    "\n",
    "print(\"Accuracy:\")\n",
    "print(clf.score(X_train,y_train))\n",
    "print(clf.score(X_test,y_test))"
   ]
  },
  {
   "cell_type": "code",
   "execution_count": 38,
   "id": "danish-thomas",
   "metadata": {},
   "outputs": [
    {
     "data": {
      "image/png": "[encoded data removed]",
      "text/plain": [
       "<Figure size 432x288 with 1 Axes>"
      ]
     },
     "metadata": {
      "needs_background": "light"
     },
     "output_type": "display_data"
    }
   ],
   "source": [
    "# ROC curve? illustrate tree application somehow\n",
    "metrics.plot_roc_curve(clf, X_test, y_test)\n",
    "plt.savefig(\"d2_accuracy.png\")\n",
    "# plot of accuracy or something"
   ]
  },
  {
   "cell_type": "code",
   "execution_count": 39,
   "id": "convinced-think",
   "metadata": {},
   "outputs": [
    {
     "data": {
      "text/plain": [
       "<matplotlib.colorbar.Colorbar at 0x7f6bbcaf4f40>"
      ]
     },
     "execution_count": 39,
     "metadata": {},
     "output_type": "execute_result"
    },
    {
     "data": {
      "image/png": "[encoded data removed]",
      "text/plain": [
       "<Figure size 432x288 with 2 Axes>"
      ]
     },
     "metadata": {
      "needs_background": "light"
     },
     "output_type": "display_data"
    }
   ],
   "source": [
    "# confusion matrix\n",
    "y_pred_test = clf.predict(X_test)\n",
    "mat = confusion_matrix(y_test, y_pred_test)\n",
    "plt.imshow(mat)\n",
    "plt.colorbar()"
   ]
  },
  {
   "cell_type": "code",
   "execution_count": 40,
   "id": "invisible-elder",
   "metadata": {},
   "outputs": [
    {
     "data": {
      "text/html": [
       "<div>\n",
       "<style scoped>\n",
       "    .dataframe tbody tr th:only-of-type {\n",
       "        vertical-align: middle;\n",
       "    }\n",
       "\n",
       "    .dataframe tbody tr th {\n",
       "        vertical-align: top;\n",
       "    }\n",
       "\n",
       "    .dataframe thead th {\n",
       "        text-align: right;\n",
       "    }\n",
       "</style>\n",
       "<table border=\"1\" class=\"dataframe\">\n",
       "  <thead>\n",
       "    <tr style=\"text-align: right;\">\n",
       "      <th></th>\n",
       "      <th>feature</th>\n",
       "      <th>importance</th>\n",
       "    </tr>\n",
       "  </thead>\n",
       "  <tbody>\n",
       "    <tr>\n",
       "      <th>5</th>\n",
       "      <td>CTOF nearby energy</td>\n",
       "      <td>0.396334</td>\n",
       "    </tr>\n",
       "    <tr>\n",
       "      <th>6</th>\n",
       "      <td>CTOF nearby hits</td>\n",
       "      <td>0.166320</td>\n",
       "    </tr>\n",
       "    <tr>\n",
       "      <th>0</th>\n",
       "      <td>neutron energy</td>\n",
       "      <td>0.145068</td>\n",
       "    </tr>\n",
       "    <tr>\n",
       "      <th>8</th>\n",
       "      <td>is_CND1</td>\n",
       "      <td>0.077079</td>\n",
       "    </tr>\n",
       "    <tr>\n",
       "      <th>3</th>\n",
       "      <td>CND nearby hits</td>\n",
       "      <td>0.076190</td>\n",
       "    </tr>\n",
       "    <tr>\n",
       "      <th>7</th>\n",
       "      <td>is_CTOF</td>\n",
       "      <td>0.058163</td>\n",
       "    </tr>\n",
       "    <tr>\n",
       "      <th>1</th>\n",
       "      <td>CND layer multiplicity</td>\n",
       "      <td>0.053125</td>\n",
       "    </tr>\n",
       "    <tr>\n",
       "      <th>4</th>\n",
       "      <td>CND nearby energy</td>\n",
       "      <td>0.020827</td>\n",
       "    </tr>\n",
       "    <tr>\n",
       "      <th>2</th>\n",
       "      <td>cluster size</td>\n",
       "      <td>0.003436</td>\n",
       "    </tr>\n",
       "    <tr>\n",
       "      <th>10</th>\n",
       "      <td>is_CND3</td>\n",
       "      <td>0.002216</td>\n",
       "    </tr>\n",
       "    <tr>\n",
       "      <th>9</th>\n",
       "      <td>is_CND2</td>\n",
       "      <td>0.001241</td>\n",
       "    </tr>\n",
       "  </tbody>\n",
       "</table>\n",
       "</div>"
      ],
      "text/plain": [
       "                   feature  importance\n",
       "5       CTOF nearby energy    0.396334\n",
       "6         CTOF nearby hits    0.166320\n",
       "0           neutron energy    0.145068\n",
       "8                  is_CND1    0.077079\n",
       "3          CND nearby hits    0.076190\n",
       "7                  is_CTOF    0.058163\n",
       "1   CND layer multiplicity    0.053125\n",
       "4        CND nearby energy    0.020827\n",
       "2             cluster size    0.003436\n",
       "10                 is_CND3    0.002216\n",
       "9                  is_CND2    0.001241"
      ]
     },
     "execution_count": 40,
     "metadata": {},
     "output_type": "execute_result"
    }
   ],
   "source": [
    "import pandas as pd\n",
    "#feature_list = ['num recon n','is_CND1 (bool)','is_CND2 (bool)','is_CND3 (bool)','num layers',\n",
    "#                'num CND hits (event)','num CND ADCs (event)','num CND TDCs (event)',\n",
    "#                'num CTOF ADCs (event)','num CTOF TDCs (event)','num CND clusters','pindex',\n",
    "#                'sector','layer','component','energy','path','num CTOF hits','CTOF energy',\n",
    "#                '4NN','corners','8NN','time','status','dedx','size','CTOF hit match',\n",
    "#                'CTOF event energy','eN_angle','x','y','z']\n",
    "feature_list = ['neutron energy',\n",
    "                'CND layer multiplicity',#'z',                 \n",
    "                'cluster size',#'beta',\n",
    "                'CND nearby hits',\n",
    "                'CND nearby energy',\n",
    "                'CTOF nearby energy',\n",
    "                'CTOF nearby hits',\n",
    "                #'angle diff CVT 12',\n",
    "                #'n phi','num particles','num neutrons'\n",
    "                'is_CTOF',#'CTOF-CND sec',\n",
    "                #'CND+CTOF'\n",
    "                'is_CND1','is_CND2','is_CND3'\n",
    "                ]\n",
    "d = {'feature': feature_list, 'importance': clf.feature_importances_}\n",
    "df = pd.DataFrame(data=d)\n",
    "df.sort_values(by='importance', ascending=False)"
   ]
  },
  {
   "cell_type": "code",
   "execution_count": 41,
   "id": "dated-forum",
   "metadata": {},
   "outputs": [
    {
     "ename": "IndexError",
     "evalue": "index 8 is out of bounds for axis 1 with size 8",
     "output_type": "error",
     "traceback": [
      "\u001b[0;31m---------------------------------------------------------------------------\u001b[0m",
      "\u001b[0;31mIndexError\u001b[0m                                Traceback (most recent call last)",
      "\u001b[0;32m<ipython-input-41-e90864f422b0>\u001b[0m in \u001b[0;36m<module>\u001b[0;34m\u001b[0m\n\u001b[1;32m     62\u001b[0m plt.title(feature_list[7])\"\"\"\n\u001b[1;32m     63\u001b[0m \u001b[0mplt\u001b[0m\u001b[0;34m.\u001b[0m\u001b[0msubplot\u001b[0m\u001b[0;34m(\u001b[0m\u001b[0;36m3\u001b[0m\u001b[0;34m,\u001b[0m\u001b[0;36m4\u001b[0m\u001b[0;34m,\u001b[0m\u001b[0;36m8\u001b[0m\u001b[0;34m)\u001b[0m\u001b[0;34m\u001b[0m\u001b[0;34m\u001b[0m\u001b[0m\n\u001b[0;32m---> 64\u001b[0;31m \u001b[0mplt\u001b[0m\u001b[0;34m.\u001b[0m\u001b[0mhist\u001b[0m\u001b[0;34m(\u001b[0m\u001b[0mndata\u001b[0m\u001b[0;34m[\u001b[0m\u001b[0;34m:\u001b[0m\u001b[0;34m,\u001b[0m\u001b[0;36m8\u001b[0m\u001b[0;34m]\u001b[0m\u001b[0;34m,\u001b[0m\u001b[0mbins\u001b[0m\u001b[0;34m=\u001b[0m\u001b[0;36m3\u001b[0m\u001b[0;34m,\u001b[0m\u001b[0mrange\u001b[0m\u001b[0;34m=\u001b[0m\u001b[0;34m(\u001b[0m\u001b[0;34m-\u001b[0m\u001b[0;36m1\u001b[0m\u001b[0;34m,\u001b[0m\u001b[0;36m1\u001b[0m\u001b[0;34m)\u001b[0m\u001b[0;34m,\u001b[0m\u001b[0malpha\u001b[0m\u001b[0;34m=\u001b[0m\u001b[0;36m0.5\u001b[0m\u001b[0;34m,\u001b[0m\u001b[0medgecolor\u001b[0m\u001b[0;34m=\u001b[0m\u001b[0;34m\"black\"\u001b[0m\u001b[0;34m,\u001b[0m\u001b[0mlabel\u001b[0m\u001b[0;34m=\u001b[0m\u001b[0;34m\"good neutrons\"\u001b[0m\u001b[0;34m)\u001b[0m\u001b[0;34m\u001b[0m\u001b[0;34m\u001b[0m\u001b[0m\n\u001b[0m\u001b[1;32m     65\u001b[0m \u001b[0mplt\u001b[0m\u001b[0;34m.\u001b[0m\u001b[0mhist\u001b[0m\u001b[0;34m(\u001b[0m\u001b[0mpdata\u001b[0m\u001b[0;34m[\u001b[0m\u001b[0;34m:\u001b[0m\u001b[0;34m,\u001b[0m\u001b[0;36m8\u001b[0m\u001b[0;34m]\u001b[0m\u001b[0;34m,\u001b[0m\u001b[0mbins\u001b[0m\u001b[0;34m=\u001b[0m\u001b[0;36m3\u001b[0m\u001b[0;34m,\u001b[0m\u001b[0mrange\u001b[0m\u001b[0;34m=\u001b[0m\u001b[0;34m(\u001b[0m\u001b[0;34m-\u001b[0m\u001b[0;36m1\u001b[0m\u001b[0;34m,\u001b[0m\u001b[0;36m1\u001b[0m\u001b[0;34m)\u001b[0m\u001b[0;34m,\u001b[0m\u001b[0malpha\u001b[0m\u001b[0;34m=\u001b[0m\u001b[0;36m0.5\u001b[0m\u001b[0;34m,\u001b[0m\u001b[0medgecolor\u001b[0m\u001b[0;34m=\u001b[0m\u001b[0;34m\"black\"\u001b[0m\u001b[0;34m,\u001b[0m\u001b[0mlabel\u001b[0m\u001b[0;34m=\u001b[0m\u001b[0;34m\"fake neutrons\"\u001b[0m\u001b[0;34m)\u001b[0m\u001b[0;34m\u001b[0m\u001b[0;34m\u001b[0m\u001b[0m\n\u001b[1;32m     66\u001b[0m \u001b[0mplt\u001b[0m\u001b[0;34m.\u001b[0m\u001b[0mxlabel\u001b[0m\u001b[0;34m(\u001b[0m\u001b[0mfeature_list\u001b[0m\u001b[0;34m[\u001b[0m\u001b[0;36m7\u001b[0m\u001b[0;34m]\u001b[0m\u001b[0;34m)\u001b[0m\u001b[0;34m\u001b[0m\u001b[0;34m\u001b[0m\u001b[0m\n",
      "\u001b[0;31mIndexError\u001b[0m: index 8 is out of bounds for axis 1 with size 8"
     ]
    },
    {
     "data": {
      "image/png": "[encoded data removed]",
      "text/plain": [
       "<Figure size 864x576 with 12 Axes>"
      ]
     },
     "metadata": {
      "needs_background": "light"
     },
     "output_type": "display_data"
    }
   ],
   "source": [
    "fig, axes = plt.subplots(nrows=3, ncols=4, figsize=(12, 8))\n",
    "fig.tight_layout() # Or equivalently,  \"plt.tight_layout()\"\n",
    "fig.subplots_adjust(hspace=0.4)\n",
    "\"\"\"for i in range(8):\n",
    "    plt.subplot(2, 4, i+1)\n",
    "    plt.xlabel(feature_list[i])\n",
    "    plt.title(feature_list[i])\"\"\"\n",
    "\n",
    "highE = 80\n",
    "\n",
    "plt.subplot(3,4,1)\n",
    "plt.hist(ndata[:,1],bins=30,range=(0,20),alpha=0.5,edgecolor=\"black\",label=\"good neutrons\")\n",
    "plt.hist(pdata[:,1],bins=30,range=(0,20),alpha=0.5,edgecolor=\"black\",label=\"fake neutrons\")\n",
    "plt.xlabel(feature_list[0])\n",
    "plt.title(feature_list[0])\n",
    "plt.legend()\n",
    "plt.subplot(3,4,2)\n",
    "plt.hist(ndata[:,2],bins=4,range=(0,3),alpha=0.5,edgecolor=\"black\",label=\"good neutrons\")\n",
    "plt.hist(pdata[:,2],bins=4,range=(0,3),alpha=0.5,edgecolor=\"black\",label=\"fake neutrons\")\n",
    "plt.xlabel(feature_list[1])\n",
    "plt.title(feature_list[1])\n",
    "plt.legend()\n",
    "plt.subplot(3,4,3)\n",
    "plt.hist(ndata[:,3],bins=5,range=(0,5),alpha=0.5,edgecolor=\"black\",label=\"good neutrons\")\n",
    "plt.hist(pdata[:,3],bins=5,range=(0,5),alpha=0.5,edgecolor=\"black\",label=\"fake neutrons\")\n",
    "plt.xlabel(feature_list[2])\n",
    "plt.title(feature_list[2])\n",
    "plt.legend()\n",
    "plt.subplot(3,4,4)\n",
    "plt.hist(ndata[:,4],bins=10,range=(0,10),alpha=0.5,edgecolor=\"black\",label=\"good neutrons\")\n",
    "plt.hist(pdata[:,4],bins=10,range=(0,10),alpha=0.5,edgecolor=\"black\",label=\"fake neutrons\")\n",
    "plt.xlabel(feature_list[3])\n",
    "plt.title(feature_list[3])\n",
    "plt.legend()\n",
    "plt.subplot(3,4,5)\n",
    "plt.hist(ndata[:,5],bins=30,range=(0,highE),alpha=0.5,edgecolor=\"black\",label=\"good neutrons\")\n",
    "plt.hist(pdata[:,5],bins=30,range=(0,highE),alpha=0.5,edgecolor=\"black\",label=\"fake neutrons\")\n",
    "plt.xlabel(feature_list[4])\n",
    "plt.title(feature_list[4])\n",
    "plt.legend()\n",
    "plt.subplot(3,4,6)\n",
    "plt.hist(ndata[:,6],bins=30,range=(0,highE),alpha=0.5,edgecolor=\"black\",label=\"good neutrons\")\n",
    "plt.hist(pdata[:,6],bins=30,range=(0,highE),alpha=0.5,edgecolor=\"black\",label=\"fake neutrons\")\n",
    "plt.xlabel(feature_list[5])\n",
    "plt.title(feature_list[5])\n",
    "plt.legend()\n",
    "plt.subplot(3,4,7)\n",
    "plt.hist(ndata[:,7],bins=7,range=(0,6),alpha=0.5,edgecolor=\"black\",label=\"good neutrons\")\n",
    "plt.hist(pdata[:,7],bins=7,range=(0,6),alpha=0.5,edgecolor=\"black\",label=\"fake neutrons\")\n",
    "plt.xlabel(feature_list[6])\n",
    "plt.title(feature_list[6])\n",
    "plt.legend()\n",
    "\"\"\"plt.subplot(2,4,8)\n",
    "plt.hist(ndata[:,8],bins=50,range=(-60,360),alpha=0.5,edgecolor=\"black\",label=\"good neutrons\")\n",
    "plt.hist(pdata[:,8],bins=50,range=(-60,360),alpha=0.5,edgecolor=\"black\",label=\"fake neutrons\")\n",
    "plt.xlabel(feature_list[7])\n",
    "plt.title(feature_list[7])\"\"\"\n",
    "\"\"\"plt.subplot(3,4,8)\n",
    "plt.hist(ndata[:,8],bins=50,range=(-180,180),alpha=0.5,edgecolor=\"black\",label=\"good neutrons\")\n",
    "plt.hist(pdata[:,8],bins=50,range=(-180,180),alpha=0.5,edgecolor=\"black\",label=\"fake neutrons\")\n",
    "plt.xlabel(feature_list[7])\n",
    "plt.title(feature_list[7])\"\"\"\n",
    "plt.subplot(3,4,8)\n",
    "plt.hist(ndata[:,8],bins=3,range=(-1,1),alpha=0.5,edgecolor=\"black\",label=\"good neutrons\")\n",
    "plt.hist(pdata[:,8],bins=3,range=(-1,1),alpha=0.5,edgecolor=\"black\",label=\"fake neutrons\")\n",
    "plt.xlabel(feature_list[7])\n",
    "plt.title(feature_list[7])\n",
    "plt.legend()\n",
    "plt.subplot(3,4,9)\n",
    "plt.hist(ndata[:,9],bins=3,range=(0,2),alpha=0.5,edgecolor=\"black\",label=\"good neutrons\")\n",
    "plt.hist(pdata[:,9],bins=3,range=(0,2),alpha=0.5,edgecolor=\"black\",label=\"fake neutrons\")\n",
    "plt.xlabel(feature_list[8])\n",
    "plt.title(feature_list[8])\n",
    "plt.legend()\n",
    "plt.subplot(3,4,10)\n",
    "plt.hist(ndata[:,10],bins=3,range=(0,2),alpha=0.5,edgecolor=\"black\",label=\"good neutrons\")\n",
    "plt.hist(pdata[:,10],bins=3,range=(0,2),alpha=0.5,edgecolor=\"black\",label=\"fake neutrons\")\n",
    "plt.xlabel(feature_list[9])\n",
    "plt.title(feature_list[9])\n",
    "plt.legend()\n",
    "plt.subplot(3,4,11)\n",
    "plt.hist(ndata[:,11],bins=3,range=(0,2),alpha=0.5,edgecolor=\"black\",label=\"good neutrons\")\n",
    "plt.hist(pdata[:,11],bins=3,range=(0,2),alpha=0.5,edgecolor=\"black\",label=\"fake neutrons\")\n",
    "plt.xlabel(feature_list[10])\n",
    "plt.title(feature_list[10])\n",
    "plt.legend()\n",
    "\"\"\"plt.subplot(3,4,10)\n",
    "plt.hist(ndata[:,10],bins=3,range=(0,2),alpha=0.5,edgecolor=\"black\",label=\"good neutrons\")\n",
    "plt.hist(pdata[:,10],bins=3,range=(0,2),alpha=0.5,edgecolor=\"black\",label=\"fake neutrons\")\n",
    "plt.xlabel(feature_list[9])\n",
    "plt.title(feature_list[9])\n",
    "plt.legend()\"\"\"\n",
    "\n",
    "\n",
    "\n",
    "#plt.subplot(2,4,8)\n",
    "#plt.axis(\"off\")\n",
    "\n",
    "plt.savefig(\"d2_features.png\")"
   ]
  },
  {
   "cell_type": "markdown",
   "id": "compatible-heating",
   "metadata": {},
   "source": [
    "# TEST ON SIMULATION"
   ]
  },
  {
   "cell_type": "code",
   "execution_count": 155,
   "id": "packed-flesh",
   "metadata": {},
   "outputs": [
    {
     "name": "stdout",
     "output_type": "stream",
     "text": [
      "(34059, 9)\n",
      "(38036, 9)\n"
     ]
    },
    {
     "ename": "ValueError",
     "evalue": "X has 8 features, but DecisionTreeRegressor is expecting 11 features as input.",
     "output_type": "error",
     "traceback": [
      "\u001b[0;31m---------------------------------------------------------------------------\u001b[0m",
      "\u001b[0;31mValueError\u001b[0m                                Traceback (most recent call last)",
      "\u001b[0;32m<ipython-input-155-7d0b46bc028b>\u001b[0m in \u001b[0;36m<module>\u001b[0;34m\u001b[0m\n\u001b[1;32m     20\u001b[0m \u001b[0msim_myY\u001b[0m \u001b[0;34m=\u001b[0m \u001b[0mnp\u001b[0m\u001b[0;34m.\u001b[0m\u001b[0mconcatenate\u001b[0m\u001b[0;34m(\u001b[0m\u001b[0;34m(\u001b[0m\u001b[0msim_ny\u001b[0m\u001b[0;34m,\u001b[0m\u001b[0msim_py\u001b[0m\u001b[0;34m)\u001b[0m\u001b[0;34m,\u001b[0m\u001b[0maxis\u001b[0m\u001b[0;34m=\u001b[0m\u001b[0;36m0\u001b[0m\u001b[0;34m)\u001b[0m\u001b[0;34m\u001b[0m\u001b[0;34m\u001b[0m\u001b[0m\n\u001b[1;32m     21\u001b[0m \u001b[0;34m\u001b[0m\u001b[0m\n\u001b[0;32m---> 22\u001b[0;31m \u001b[0mprint\u001b[0m\u001b[0;34m(\u001b[0m\u001b[0mclf\u001b[0m\u001b[0;34m.\u001b[0m\u001b[0mscore\u001b[0m\u001b[0;34m(\u001b[0m\u001b[0msim_myX\u001b[0m\u001b[0;34m,\u001b[0m\u001b[0msim_myY\u001b[0m\u001b[0;34m)\u001b[0m\u001b[0;34m)\u001b[0m\u001b[0;34m\u001b[0m\u001b[0;34m\u001b[0m\u001b[0m\n\u001b[0m",
      "\u001b[0;32m/opt/conda/lib/python3.8/site-packages/sklearn/base.py\u001b[0m in \u001b[0;36mscore\u001b[0;34m(self, X, y, sample_weight)\u001b[0m\n\u001b[1;32m    498\u001b[0m         \"\"\"\n\u001b[1;32m    499\u001b[0m         \u001b[0;32mfrom\u001b[0m \u001b[0;34m.\u001b[0m\u001b[0mmetrics\u001b[0m \u001b[0;32mimport\u001b[0m \u001b[0maccuracy_score\u001b[0m\u001b[0;34m\u001b[0m\u001b[0;34m\u001b[0m\u001b[0m\n\u001b[0;32m--> 500\u001b[0;31m         \u001b[0;32mreturn\u001b[0m \u001b[0maccuracy_score\u001b[0m\u001b[0;34m(\u001b[0m\u001b[0my\u001b[0m\u001b[0;34m,\u001b[0m \u001b[0mself\u001b[0m\u001b[0;34m.\u001b[0m\u001b[0mpredict\u001b[0m\u001b[0;34m(\u001b[0m\u001b[0mX\u001b[0m\u001b[0;34m)\u001b[0m\u001b[0;34m,\u001b[0m \u001b[0msample_weight\u001b[0m\u001b[0;34m=\u001b[0m\u001b[0msample_weight\u001b[0m\u001b[0;34m)\u001b[0m\u001b[0;34m\u001b[0m\u001b[0;34m\u001b[0m\u001b[0m\n\u001b[0m\u001b[1;32m    501\u001b[0m \u001b[0;34m\u001b[0m\u001b[0m\n\u001b[1;32m    502\u001b[0m     \u001b[0;32mdef\u001b[0m \u001b[0m_more_tags\u001b[0m\u001b[0;34m(\u001b[0m\u001b[0mself\u001b[0m\u001b[0;34m)\u001b[0m\u001b[0;34m:\u001b[0m\u001b[0;34m\u001b[0m\u001b[0;34m\u001b[0m\u001b[0m\n",
      "\u001b[0;32m/opt/conda/lib/python3.8/site-packages/sklearn/ensemble/_gb.py\u001b[0m in \u001b[0;36mpredict\u001b[0;34m(self, X)\u001b[0m\n\u001b[1;32m   1186\u001b[0m             \u001b[0mThe\u001b[0m \u001b[0mpredicted\u001b[0m \u001b[0mvalues\u001b[0m\u001b[0;34m.\u001b[0m\u001b[0;34m\u001b[0m\u001b[0;34m\u001b[0m\u001b[0m\n\u001b[1;32m   1187\u001b[0m         \"\"\"\n\u001b[0;32m-> 1188\u001b[0;31m         \u001b[0mraw_predictions\u001b[0m \u001b[0;34m=\u001b[0m \u001b[0mself\u001b[0m\u001b[0;34m.\u001b[0m\u001b[0mdecision_function\u001b[0m\u001b[0;34m(\u001b[0m\u001b[0mX\u001b[0m\u001b[0;34m)\u001b[0m\u001b[0;34m\u001b[0m\u001b[0;34m\u001b[0m\u001b[0m\n\u001b[0m\u001b[1;32m   1189\u001b[0m         \u001b[0mencoded_labels\u001b[0m \u001b[0;34m=\u001b[0m\u001b[0;31m \u001b[0m\u001b[0;31m\\\u001b[0m\u001b[0;34m\u001b[0m\u001b[0;34m\u001b[0m\u001b[0m\n\u001b[1;32m   1190\u001b[0m             \u001b[0mself\u001b[0m\u001b[0;34m.\u001b[0m\u001b[0mloss_\u001b[0m\u001b[0;34m.\u001b[0m\u001b[0m_raw_prediction_to_decision\u001b[0m\u001b[0;34m(\u001b[0m\u001b[0mraw_predictions\u001b[0m\u001b[0;34m)\u001b[0m\u001b[0;34m\u001b[0m\u001b[0;34m\u001b[0m\u001b[0m\n",
      "\u001b[0;32m/opt/conda/lib/python3.8/site-packages/sklearn/ensemble/_gb.py\u001b[0m in \u001b[0;36mdecision_function\u001b[0;34m(self, X)\u001b[0m\n\u001b[1;32m   1142\u001b[0m         \"\"\"\n\u001b[1;32m   1143\u001b[0m         \u001b[0mX\u001b[0m \u001b[0;34m=\u001b[0m \u001b[0mcheck_array\u001b[0m\u001b[0;34m(\u001b[0m\u001b[0mX\u001b[0m\u001b[0;34m,\u001b[0m \u001b[0mdtype\u001b[0m\u001b[0;34m=\u001b[0m\u001b[0mDTYPE\u001b[0m\u001b[0;34m,\u001b[0m \u001b[0morder\u001b[0m\u001b[0;34m=\u001b[0m\u001b[0;34m\"C\"\u001b[0m\u001b[0;34m,\u001b[0m \u001b[0maccept_sparse\u001b[0m\u001b[0;34m=\u001b[0m\u001b[0;34m'csr'\u001b[0m\u001b[0;34m)\u001b[0m\u001b[0;34m\u001b[0m\u001b[0;34m\u001b[0m\u001b[0m\n\u001b[0;32m-> 1144\u001b[0;31m         \u001b[0mraw_predictions\u001b[0m \u001b[0;34m=\u001b[0m \u001b[0mself\u001b[0m\u001b[0;34m.\u001b[0m\u001b[0m_raw_predict\u001b[0m\u001b[0;34m(\u001b[0m\u001b[0mX\u001b[0m\u001b[0;34m)\u001b[0m\u001b[0;34m\u001b[0m\u001b[0;34m\u001b[0m\u001b[0m\n\u001b[0m\u001b[1;32m   1145\u001b[0m         \u001b[0;32mif\u001b[0m \u001b[0mraw_predictions\u001b[0m\u001b[0;34m.\u001b[0m\u001b[0mshape\u001b[0m\u001b[0;34m[\u001b[0m\u001b[0;36m1\u001b[0m\u001b[0;34m]\u001b[0m \u001b[0;34m==\u001b[0m \u001b[0;36m1\u001b[0m\u001b[0;34m:\u001b[0m\u001b[0;34m\u001b[0m\u001b[0;34m\u001b[0m\u001b[0m\n\u001b[1;32m   1146\u001b[0m             \u001b[0;32mreturn\u001b[0m \u001b[0mraw_predictions\u001b[0m\u001b[0;34m.\u001b[0m\u001b[0mravel\u001b[0m\u001b[0;34m(\u001b[0m\u001b[0;34m)\u001b[0m\u001b[0;34m\u001b[0m\u001b[0;34m\u001b[0m\u001b[0m\n",
      "\u001b[0;32m/opt/conda/lib/python3.8/site-packages/sklearn/ensemble/_gb.py\u001b[0m in \u001b[0;36m_raw_predict\u001b[0;34m(self, X)\u001b[0m\n\u001b[1;32m    622\u001b[0m     \u001b[0;32mdef\u001b[0m \u001b[0m_raw_predict\u001b[0m\u001b[0;34m(\u001b[0m\u001b[0mself\u001b[0m\u001b[0;34m,\u001b[0m \u001b[0mX\u001b[0m\u001b[0;34m)\u001b[0m\u001b[0;34m:\u001b[0m\u001b[0;34m\u001b[0m\u001b[0;34m\u001b[0m\u001b[0m\n\u001b[1;32m    623\u001b[0m         \u001b[0;34m\"\"\"Return the sum of the trees raw predictions (+ init estimator).\"\"\"\u001b[0m\u001b[0;34m\u001b[0m\u001b[0;34m\u001b[0m\u001b[0m\n\u001b[0;32m--> 624\u001b[0;31m         \u001b[0mraw_predictions\u001b[0m \u001b[0;34m=\u001b[0m \u001b[0mself\u001b[0m\u001b[0;34m.\u001b[0m\u001b[0m_raw_predict_init\u001b[0m\u001b[0;34m(\u001b[0m\u001b[0mX\u001b[0m\u001b[0;34m)\u001b[0m\u001b[0;34m\u001b[0m\u001b[0;34m\u001b[0m\u001b[0m\n\u001b[0m\u001b[1;32m    625\u001b[0m         predict_stages(self.estimators_, X, self.learning_rate,\n\u001b[1;32m    626\u001b[0m                        raw_predictions)\n",
      "\u001b[0;32m/opt/conda/lib/python3.8/site-packages/sklearn/ensemble/_gb.py\u001b[0m in \u001b[0;36m_raw_predict_init\u001b[0;34m(self, X)\u001b[0m\n\u001b[1;32m    608\u001b[0m         \u001b[0;34m\"\"\"Check input and compute raw predictions of the init estimator.\"\"\"\u001b[0m\u001b[0;34m\u001b[0m\u001b[0;34m\u001b[0m\u001b[0m\n\u001b[1;32m    609\u001b[0m         \u001b[0mself\u001b[0m\u001b[0;34m.\u001b[0m\u001b[0m_check_initialized\u001b[0m\u001b[0;34m(\u001b[0m\u001b[0;34m)\u001b[0m\u001b[0;34m\u001b[0m\u001b[0;34m\u001b[0m\u001b[0m\n\u001b[0;32m--> 610\u001b[0;31m         \u001b[0mX\u001b[0m \u001b[0;34m=\u001b[0m \u001b[0mself\u001b[0m\u001b[0;34m.\u001b[0m\u001b[0mestimators_\u001b[0m\u001b[0;34m[\u001b[0m\u001b[0;36m0\u001b[0m\u001b[0;34m,\u001b[0m \u001b[0;36m0\u001b[0m\u001b[0;34m]\u001b[0m\u001b[0;34m.\u001b[0m\u001b[0m_validate_X_predict\u001b[0m\u001b[0;34m(\u001b[0m\u001b[0mX\u001b[0m\u001b[0;34m,\u001b[0m \u001b[0mcheck_input\u001b[0m\u001b[0;34m=\u001b[0m\u001b[0;32mTrue\u001b[0m\u001b[0;34m)\u001b[0m\u001b[0;34m\u001b[0m\u001b[0;34m\u001b[0m\u001b[0m\n\u001b[0m\u001b[1;32m    611\u001b[0m         \u001b[0;32mif\u001b[0m \u001b[0mX\u001b[0m\u001b[0;34m.\u001b[0m\u001b[0mshape\u001b[0m\u001b[0;34m[\u001b[0m\u001b[0;36m1\u001b[0m\u001b[0;34m]\u001b[0m \u001b[0;34m!=\u001b[0m \u001b[0mself\u001b[0m\u001b[0;34m.\u001b[0m\u001b[0mn_features_\u001b[0m\u001b[0;34m:\u001b[0m\u001b[0;34m\u001b[0m\u001b[0;34m\u001b[0m\u001b[0m\n\u001b[1;32m    612\u001b[0m             raise ValueError(\"X.shape[1] should be {0:d}, not {1:d}.\".format(\n",
      "\u001b[0;32m/opt/conda/lib/python3.8/site-packages/sklearn/tree/_classes.py\u001b[0m in \u001b[0;36m_validate_X_predict\u001b[0;34m(self, X, check_input)\u001b[0m\n\u001b[1;32m    400\u001b[0m         \u001b[0;34m\"\"\"Validate the training data on predict (probabilities).\"\"\"\u001b[0m\u001b[0;34m\u001b[0m\u001b[0;34m\u001b[0m\u001b[0m\n\u001b[1;32m    401\u001b[0m         \u001b[0;32mif\u001b[0m \u001b[0mcheck_input\u001b[0m\u001b[0;34m:\u001b[0m\u001b[0;34m\u001b[0m\u001b[0;34m\u001b[0m\u001b[0m\n\u001b[0;32m--> 402\u001b[0;31m             X = self._validate_data(X, dtype=DTYPE, accept_sparse=\"csr\",\n\u001b[0m\u001b[1;32m    403\u001b[0m                                     reset=False)\n\u001b[1;32m    404\u001b[0m             if issparse(X) and (X.indices.dtype != np.intc or\n",
      "\u001b[0;32m/opt/conda/lib/python3.8/site-packages/sklearn/base.py\u001b[0m in \u001b[0;36m_validate_data\u001b[0;34m(self, X, y, reset, validate_separately, **check_params)\u001b[0m\n\u001b[1;32m    435\u001b[0m \u001b[0;34m\u001b[0m\u001b[0m\n\u001b[1;32m    436\u001b[0m         \u001b[0;32mif\u001b[0m \u001b[0mcheck_params\u001b[0m\u001b[0;34m.\u001b[0m\u001b[0mget\u001b[0m\u001b[0;34m(\u001b[0m\u001b[0;34m'ensure_2d'\u001b[0m\u001b[0;34m,\u001b[0m \u001b[0;32mTrue\u001b[0m\u001b[0;34m)\u001b[0m\u001b[0;34m:\u001b[0m\u001b[0;34m\u001b[0m\u001b[0;34m\u001b[0m\u001b[0m\n\u001b[0;32m--> 437\u001b[0;31m             \u001b[0mself\u001b[0m\u001b[0;34m.\u001b[0m\u001b[0m_check_n_features\u001b[0m\u001b[0;34m(\u001b[0m\u001b[0mX\u001b[0m\u001b[0;34m,\u001b[0m \u001b[0mreset\u001b[0m\u001b[0;34m=\u001b[0m\u001b[0mreset\u001b[0m\u001b[0;34m)\u001b[0m\u001b[0;34m\u001b[0m\u001b[0;34m\u001b[0m\u001b[0m\n\u001b[0m\u001b[1;32m    438\u001b[0m \u001b[0;34m\u001b[0m\u001b[0m\n\u001b[1;32m    439\u001b[0m         \u001b[0;32mreturn\u001b[0m \u001b[0mout\u001b[0m\u001b[0;34m\u001b[0m\u001b[0;34m\u001b[0m\u001b[0m\n",
      "\u001b[0;32m/opt/conda/lib/python3.8/site-packages/sklearn/base.py\u001b[0m in \u001b[0;36m_check_n_features\u001b[0;34m(self, X, reset)\u001b[0m\n\u001b[1;32m    363\u001b[0m \u001b[0;34m\u001b[0m\u001b[0m\n\u001b[1;32m    364\u001b[0m         \u001b[0;32mif\u001b[0m \u001b[0mn_features\u001b[0m \u001b[0;34m!=\u001b[0m \u001b[0mself\u001b[0m\u001b[0;34m.\u001b[0m\u001b[0mn_features_in_\u001b[0m\u001b[0;34m:\u001b[0m\u001b[0;34m\u001b[0m\u001b[0;34m\u001b[0m\u001b[0m\n\u001b[0;32m--> 365\u001b[0;31m             raise ValueError(\n\u001b[0m\u001b[1;32m    366\u001b[0m                 \u001b[0;34mf\"X has {n_features} features, but {self.__class__.__name__} \"\u001b[0m\u001b[0;34m\u001b[0m\u001b[0;34m\u001b[0m\u001b[0m\n\u001b[1;32m    367\u001b[0m                 f\"is expecting {self.n_features_in_} features as input.\")\n",
      "\u001b[0;31mValueError\u001b[0m: X has 8 features, but DecisionTreeRegressor is expecting 11 features as input."
     ]
    }
   ],
   "source": [
    "filepath = \"/w/hallb-scshelf2102/clas/clase2/erins/repos/neutron-veto/Simulation_eN/\"\n",
    "sim_neutron_names = glob(filepath + \"eN_bknd/bknd_txt/good_neutrons_*.txt\")\n",
    "sim_n_arrays = [np.genfromtxt(f, invalid_raise=False) for f in sim_neutron_names]\n",
    "sim_ndata = np.concatenate(sim_n_arrays, axis=0)[0:274000,:]\n",
    "# only 333 neutrons in e'p\n",
    "\n",
    "\n",
    "sim_proton_names = glob(filepath + \"eN_bknd/bknd_txt/fake_neutrons_*.txt\")\n",
    "sim_p_arrays = [np.genfromtxt(f, invalid_raise=False) for f in sim_proton_names]\n",
    "sim_pdata = np.concatenate(sim_p_arrays, axis=0)[0:274000,:]\n",
    "\n",
    "sim_ny = np.zeros(len(sim_ndata)) # neutrons - assigned 0\n",
    "sim_py = np.ones(len(sim_pdata)) # protons - assigned 1\n",
    "\n",
    "print(np.shape(sim_ndata))\n",
    "print(np.shape(sim_pdata))\n",
    "\n",
    "sim_myX = np.concatenate((sim_ndata[:,1:],sim_pdata[:,1:]),axis=0)\n",
    "sim_myX = np.nan_to_num(sim_myX, nan=0)\n",
    "sim_myY = np.concatenate((sim_ny,sim_py),axis=0)\n",
    "\n",
    "print(clf.score(sim_myX,sim_myY))"
   ]
  },
  {
   "cell_type": "markdown",
   "id": "possible-capacity",
   "metadata": {},
   "source": [
    "# TEST ON pFD"
   ]
  },
  {
   "cell_type": "code",
   "execution_count": null,
   "id": "economic-ceiling",
   "metadata": {},
   "outputs": [],
   "source": [
    "filepath = \"/lustre19/expphy/volatile/clas12/users/erins/neutron-veto/d_2gev2gev_txt/\"\n",
    "fd_neutron_names = glob(filepath + \"goodn_jus_pFD_015*.txt\")\n",
    "fd_n_arrays = [np.genfromtxt(f, invalid_raise=False) for f in fd_neutron_names]\n",
    "fd_ndata = np.concatenate(fd_n_arrays, axis=0)[0:274000,:]\n",
    "# only 333 neutrons in e'p\n",
    "\n",
    "\n",
    "fd_proton_names = glob(filepath + \"badn_jus_pFD_015*.txt\")\n",
    "fd_p_arrays = [np.genfromtxt(f, invalid_raise=False) for f in fd_proton_names]\n",
    "fd_pdata = np.concatenate(fd_p_arrays, axis=0)[0:274000,:]\n",
    "\n",
    "fd_ny = np.zeros(len(fd_ndata)) # neutrons - assigned 0\n",
    "fd_py = np.ones(len(fd_pdata)) # protons - assigned 1\n",
    "\n",
    "print(np.shape(fd_ndata))\n",
    "print(np.shape(fd_pdata))\n",
    "\n",
    "fd_myX = np.concatenate((fd_ndata,fd_pdata),axis=0)\n",
    "fd_myX = np.nan_to_num(fd_myX, nan=0)\n",
    "fd_myY = np.concatenate((fd_ny,fd_py),axis=0)\n",
    "\n",
    "print(clf.score(fd_myX,fd_myY))"
   ]
  },
  {
   "cell_type": "markdown",
   "id": "talented-selection",
   "metadata": {},
   "source": [
    "# Test on 6 GeV"
   ]
  },
  {
   "cell_type": "code",
   "execution_count": null,
   "id": "sixth-sodium",
   "metadata": {},
   "outputs": [],
   "source": [
    "filepath = \"/w/hallb-scshelf2102/clas/clase2/erins/repos/neutron-veto/d_6gev/6gev_txt/\"\n",
    "fd_neutron_names = glob(filepath + \"goodn_jus_pCD_015*.txt\")\n",
    "fd_n_arrays = [np.genfromtxt(f, invalid_raise=False) for f in fd_neutron_names]\n",
    "fd_ndata = np.concatenate(fd_n_arrays, axis=0)[0:274000,:]\n",
    "# only 333 neutrons in e'p\n",
    "\n",
    "\n",
    "fd_proton_names = glob(filepath + \"badn_jus_pCD_015*.txt\")\n",
    "fd_p_arrays = [np.genfromtxt(f, invalid_raise=False) for f in fd_proton_names]\n",
    "fd_pdata = np.concatenate(fd_p_arrays, axis=0)[0:274000,:]\n",
    "\n",
    "fd_ny = np.zeros(len(fd_ndata)) # neutrons - assigned 0\n",
    "fd_py = np.ones(len(fd_pdata)) # protons - assigned 1\n",
    "\n",
    "print(np.shape(fd_ndata))\n",
    "print(np.shape(fd_pdata))\n",
    "\n",
    "fd_myX = np.concatenate((fd_ndata,fd_pdata),axis=0)\n",
    "fd_myX = np.nan_to_num(fd_myX, nan=0)\n",
    "fd_myY = np.concatenate((fd_ny,fd_py),axis=0)\n",
    "\n",
    "print(clf.score(fd_myX,fd_myY))"
   ]
  },
  {
   "cell_type": "code",
   "execution_count": null,
   "id": "statistical-interest",
   "metadata": {},
   "outputs": [],
   "source": []
  },
  {
   "cell_type": "code",
   "execution_count": null,
   "id": "associate-board",
   "metadata": {},
   "outputs": [],
   "source": []
  }
 ],
 "metadata": {
  "kernelspec": {
   "display_name": "Python 3",
   "language": "python",
   "name": "python3"
  },
  "language_info": {
   "codemirror_mode": {
    "name": "ipython",
    "version": 3
   },
   "file_extension": ".py",
   "mimetype": "text/x-python",
   "name": "python",
   "nbconvert_exporter": "python",
   "pygments_lexer": "ipython3",
   "version": "3.8.6"
  }
 },
 "nbformat": 4,
 "nbformat_minor": 5
}
